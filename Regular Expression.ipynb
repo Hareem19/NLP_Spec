{
 "cells": [
  {
   "cell_type": "code",
   "execution_count": 1,
   "id": "0213bddc",
   "metadata": {},
   "outputs": [],
   "source": [
    "import re"
   ]
  },
  {
   "cell_type": "code",
   "execution_count": 4,
   "id": "ef3987e7",
   "metadata": {},
   "outputs": [],
   "source": [
    "text=\"hello phone\""
   ]
  },
  {
   "cell_type": "code",
   "execution_count": 5,
   "id": "79da967b",
   "metadata": {},
   "outputs": [],
   "source": [
    "pattern=\"phone\""
   ]
  },
  {
   "cell_type": "code",
   "execution_count": 6,
   "id": "ccfcf9be",
   "metadata": {},
   "outputs": [
    {
     "data": {
      "text/plain": [
       "<re.Match object; span=(6, 11), match='phone'>"
      ]
     },
     "execution_count": 6,
     "metadata": {},
     "output_type": "execute_result"
    }
   ],
   "source": [
    "re.search(pattern,text)"
   ]
  },
  {
   "cell_type": "code",
   "execution_count": 8,
   "id": "56b99867",
   "metadata": {},
   "outputs": [],
   "source": [
    "match=re.search(pattern,text)"
   ]
  },
  {
   "cell_type": "code",
   "execution_count": 9,
   "id": "e08b6688",
   "metadata": {},
   "outputs": [
    {
     "data": {
      "text/plain": [
       "(6, 11)"
      ]
     },
     "execution_count": 9,
     "metadata": {},
     "output_type": "execute_result"
    }
   ],
   "source": [
    "match.span()"
   ]
  },
  {
   "cell_type": "code",
   "execution_count": 10,
   "id": "06b8ba92",
   "metadata": {},
   "outputs": [
    {
     "data": {
      "text/plain": [
       "6"
      ]
     },
     "execution_count": 10,
     "metadata": {},
     "output_type": "execute_result"
    }
   ],
   "source": [
    "match.start()"
   ]
  },
  {
   "cell_type": "code",
   "execution_count": 12,
   "id": "b6bdda24",
   "metadata": {},
   "outputs": [
    {
     "data": {
      "text/plain": [
       "11"
      ]
     },
     "execution_count": 12,
     "metadata": {},
     "output_type": "execute_result"
    }
   ],
   "source": [
    "match.end()"
   ]
  },
  {
   "cell_type": "code",
   "execution_count": 11,
   "id": "165dc3d4",
   "metadata": {},
   "outputs": [],
   "source": [
    "text=\"hello phone in phone\""
   ]
  },
  {
   "cell_type": "code",
   "execution_count": 13,
   "id": "edc9c0f9",
   "metadata": {},
   "outputs": [],
   "source": [
    "matches = re.findall(pattern, text)"
   ]
  },
  {
   "cell_type": "code",
   "execution_count": 18,
   "id": "637ebe68",
   "metadata": {},
   "outputs": [
    {
     "name": "stdout",
     "output_type": "stream",
     "text": [
      "phone\n",
      "phone\n"
     ]
    }
   ],
   "source": [
    "for match in matches:\n",
    "        print(match)"
   ]
  },
  {
   "cell_type": "code",
   "execution_count": 19,
   "id": "6a5508c1",
   "metadata": {},
   "outputs": [
    {
     "data": {
      "text/plain": [
       "['cat']"
      ]
     },
     "execution_count": 19,
     "metadata": {},
     "output_type": "execute_result"
    }
   ],
   "source": [
    "re.findall(r'.at',\"The cat is blue\")"
   ]
  },
  {
   "cell_type": "code",
   "execution_count": 25,
   "id": "3a98b5e6",
   "metadata": {},
   "outputs": [
    {
     "data": {
      "text/plain": [
       "['blueeecat']"
      ]
     },
     "execution_count": 25,
     "metadata": {},
     "output_type": "execute_result"
    }
   ],
   "source": [
    "re.findall(r'.......at',\"The blueeecat is blue\")"
   ]
  },
  {
   "cell_type": "code",
   "execution_count": 29,
   "id": "3715c82f",
   "metadata": {},
   "outputs": [
    {
     "data": {
      "text/plain": [
       "['cat']"
      ]
     },
     "execution_count": 29,
     "metadata": {},
     "output_type": "execute_result"
    }
   ],
   "source": [
    "re.findall(r'\\S+at',\"The cat is blue\")"
   ]
  },
  {
   "cell_type": "code",
   "execution_count": 34,
   "id": "10b7f764",
   "metadata": {},
   "outputs": [
    {
     "data": {
      "text/plain": [
       "['blue-yellow']"
      ]
     },
     "execution_count": 34,
     "metadata": {},
     "output_type": "execute_result"
    }
   ],
   "source": [
    "re.findall(r'[\\w]+-[\\w]+',\"The cat is blue-yellow\")"
   ]
  },
  {
   "cell_type": "code",
   "execution_count": 35,
   "id": "d1575a91",
   "metadata": {},
   "outputs": [
    {
     "data": {
      "text/plain": [
       "'The cat is blue-yellow'"
      ]
     },
     "execution_count": 35,
     "metadata": {},
     "output_type": "execute_result"
    }
   ],
   "source": [
    "\"The cat is blue-yellow\""
   ]
  },
  {
   "cell_type": "code",
   "execution_count": null,
   "id": "465c588b",
   "metadata": {},
   "outputs": [],
   "source": []
  },
  {
   "cell_type": "code",
   "execution_count": 33,
   "id": "89eab9dd",
   "metadata": {},
   "outputs": [],
   "source": [
    "text= \"This is a hyphenated-word example and another example: non-hyphenated.\""
   ]
  },
  {
   "cell_type": "code",
   "execution_count": 36,
   "id": "72f8d1d2",
   "metadata": {},
   "outputs": [
    {
     "data": {
      "text/plain": [
       "['hyphenated-word', 'non-hyphenated']"
      ]
     },
     "execution_count": 36,
     "metadata": {},
     "output_type": "execute_result"
    }
   ],
   "source": [
    "re.findall(r'[\\w]+-[\\w]+',text)"
   ]
  },
  {
   "cell_type": "code",
   "execution_count": 37,
   "id": "823b35e3",
   "metadata": {},
   "outputs": [
    {
     "data": {
      "text/plain": [
       "<re.Match object; span=(0, 4), match='This'>"
      ]
     },
     "execution_count": 37,
     "metadata": {},
     "output_type": "execute_result"
    }
   ],
   "source": [
    "re.search(r'Th(is|at)',text)"
   ]
  },
  {
   "cell_type": "code",
   "execution_count": null,
   "id": "a4075767",
   "metadata": {},
   "outputs": [],
   "source": []
  },
  {
   "cell_type": "code",
   "execution_count": 16,
   "id": "d24dae8b",
   "metadata": {},
   "outputs": [
    {
     "ename": "AttributeError",
     "evalue": "'str' object has no attribute 'span'",
     "output_type": "error",
     "traceback": [
      "\u001b[1;31m---------------------------------------------------------------------------\u001b[0m",
      "\u001b[1;31mAttributeError\u001b[0m                            Traceback (most recent call last)",
      "Cell \u001b[1;32mIn[16], line 1\u001b[0m\n\u001b[1;32m----> 1\u001b[0m \u001b[38;5;28;01mmatch\u001b[39;00m\u001b[38;5;241m.\u001b[39mspan()\n",
      "\u001b[1;31mAttributeError\u001b[0m: 'str' object has no attribute 'span'"
     ]
    }
   ],
   "source": [
    "match.span()"
   ]
  },
  {
   "cell_type": "code",
   "execution_count": null,
   "id": "e4800beb",
   "metadata": {},
   "outputs": [],
   "source": []
  }
 ],
 "metadata": {
  "kernelspec": {
   "display_name": "Python 3 (ipykernel)",
   "language": "python",
   "name": "python3"
  },
  "language_info": {
   "codemirror_mode": {
    "name": "ipython",
    "version": 3
   },
   "file_extension": ".py",
   "mimetype": "text/x-python",
   "name": "python",
   "nbconvert_exporter": "python",
   "pygments_lexer": "ipython3",
   "version": "3.11.3"
  }
 },
 "nbformat": 4,
 "nbformat_minor": 5
}
