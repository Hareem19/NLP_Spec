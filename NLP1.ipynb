{
 "cells": [
  {
   "cell_type": "code",
   "execution_count": 1,
   "id": "80c6a72a",
   "metadata": {},
   "outputs": [],
   "source": [
    "name=\"hareem\""
   ]
  },
  {
   "cell_type": "code",
   "execution_count": 17,
   "id": "abdd3658",
   "metadata": {},
   "outputs": [],
   "source": [
    "library=[\n",
    "    ('author','title','pages'),\n",
    "    ('b','2','y'),\n",
    "    ('c','3','z')\n",
    "]"
   ]
  },
  {
   "cell_type": "code",
   "execution_count": 19,
   "id": "1d1716dc",
   "metadata": {},
   "outputs": [
    {
     "name": "stdout",
     "output_type": "stream",
     "text": [
      "author     title       pages.....\n",
      "b          2           y.........\n",
      "c          3           z.........\n"
     ]
    }
   ],
   "source": [
    "for book in library:\n",
    "    print(f\"{book[0]:{10}} {book[1]:{10}}  {book[2]:.<{10}}\")"
   ]
  },
  {
   "cell_type": "code",
   "execution_count": 20,
   "id": "09cec273",
   "metadata": {},
   "outputs": [],
   "source": [
    "from datetime import datetime"
   ]
  },
  {
   "cell_type": "code",
   "execution_count": 21,
   "id": "8991aded",
   "metadata": {},
   "outputs": [],
   "source": [
    "today=datetime(2023,10,16)"
   ]
  },
  {
   "cell_type": "code",
   "execution_count": 22,
   "id": "c8432f33",
   "metadata": {},
   "outputs": [
    {
     "data": {
      "text/plain": [
       "datetime.datetime(2023, 10, 16, 0, 0)"
      ]
     },
     "execution_count": 22,
     "metadata": {},
     "output_type": "execute_result"
    }
   ],
   "source": [
    "today"
   ]
  },
  {
   "cell_type": "code",
   "execution_count": 23,
   "id": "07040f10",
   "metadata": {},
   "outputs": [
    {
     "name": "stdout",
     "output_type": "stream",
     "text": [
      "2023-10-16 00:00:00\n"
     ]
    }
   ],
   "source": [
    "print(today)"
   ]
  },
  {
   "cell_type": "code",
   "execution_count": 24,
   "id": "bd9d0569",
   "metadata": {},
   "outputs": [
    {
     "name": "stdout",
     "output_type": "stream",
     "text": [
      "Oct, 16, 23\n"
     ]
    }
   ],
   "source": [
    "print(f\"{today:%b, %d, %y}\")"
   ]
  },
  {
   "cell_type": "code",
   "execution_count": 25,
   "id": "329040b9",
   "metadata": {},
   "outputs": [
    {
     "name": "stdout",
     "output_type": "stream",
     "text": [
      "October, 16, 2023\n"
     ]
    }
   ],
   "source": [
    "print(f\"{today:%B, %d, %Y}\")"
   ]
  },
  {
   "cell_type": "code",
   "execution_count": 31,
   "id": "643db99a",
   "metadata": {},
   "outputs": [
    {
     "name": "stdout",
     "output_type": "stream",
     "text": [
      "October, 16, 2023\n"
     ]
    }
   ],
   "source": [
    "print(today.strftime(\"%B, %d, %Y\"))"
   ]
  },
  {
   "cell_type": "code",
   "execution_count": 38,
   "id": "86d3f19a",
   "metadata": {},
   "outputs": [],
   "source": [
    "import datetime\n",
    "current=datetime.date.today()"
   ]
  },
  {
   "cell_type": "raw",
   "id": "88a37086",
   "metadata": {},
   "source": []
  },
  {
   "cell_type": "code",
   "execution_count": 39,
   "id": "98f9501a",
   "metadata": {},
   "outputs": [],
   "source": [
    "from datetime import datetime\n",
    "\n",
    "current = datetime.today().date()\n"
   ]
  },
  {
   "cell_type": "code",
   "execution_count": 40,
   "id": "57e05237",
   "metadata": {},
   "outputs": [
    {
     "data": {
      "text/plain": [
       "datetime.date(2023, 10, 16)"
      ]
     },
     "execution_count": 40,
     "metadata": {},
     "output_type": "execute_result"
    }
   ],
   "source": [
    "current"
   ]
  },
  {
   "cell_type": "code",
   "execution_count": 51,
   "id": "a3dd9cf7",
   "metadata": {},
   "outputs": [
    {
     "data": {
      "text/plain": [
       "'16 23 Oct Mon Monday'"
      ]
     },
     "execution_count": 51,
     "metadata": {},
     "output_type": "execute_result"
    }
   ],
   "source": [
    "current.strftime(\"%d %y %b %a %A\")"
   ]
  },
  {
   "cell_type": "code",
   "execution_count": 54,
   "id": "7801f776",
   "metadata": {},
   "outputs": [],
   "source": [
    "today=datetime(1997,7,20)"
   ]
  },
  {
   "cell_type": "code",
   "execution_count": 61,
   "id": "7e4cb890",
   "metadata": {},
   "outputs": [
    {
     "name": "stdout",
     "output_type": "stream",
     "text": [
      "Please attend our event Sunday Jul 20 in the year 1997\n"
     ]
    }
   ],
   "source": [
    "print(f\"Please attend our event {today:%A %b %d} in the year {today:%Y}\")"
   ]
  },
  {
   "cell_type": "code",
   "execution_count": 72,
   "id": "4e0e5ed9",
   "metadata": {},
   "outputs": [],
   "source": [
    "import datetime"
   ]
  },
  {
   "cell_type": "code",
   "execution_count": 73,
   "id": "729d2f0e",
   "metadata": {},
   "outputs": [],
   "source": [
    "# birthday=input()"
   ]
  },
  {
   "cell_type": "code",
   "execution_count": 134,
   "id": "64e7e1fc",
   "metadata": {},
   "outputs": [
    {
     "ename": "ImportError",
     "evalue": "cannot import name 'delta' from 'datetime' (C:\\Users\\HP\\anaconda3\\Lib\\datetime.py)",
     "output_type": "error",
     "traceback": [
      "\u001b[1;31m---------------------------------------------------------------------------\u001b[0m",
      "\u001b[1;31mImportError\u001b[0m                               Traceback (most recent call last)",
      "Cell \u001b[1;32mIn[134], line 1\u001b[0m\n\u001b[1;32m----> 1\u001b[0m \u001b[38;5;28;01mfrom\u001b[39;00m \u001b[38;5;21;01mdatetime\u001b[39;00m \u001b[38;5;28;01mimport\u001b[39;00m datetime,delta\n\u001b[0;32m      3\u001b[0m \u001b[38;5;66;03m# Assuming 'birthday' is a string in the format 'mm/dd/yyyy'\u001b[39;00m\n\u001b[0;32m      4\u001b[0m birthday \u001b[38;5;241m=\u001b[39m \u001b[38;5;124m\"\u001b[39m\u001b[38;5;124m10/16/1990\u001b[39m\u001b[38;5;124m\"\u001b[39m  \u001b[38;5;66;03m# Replace this with your actual birthday string\u001b[39;00m\n",
      "\u001b[1;31mImportError\u001b[0m: cannot import name 'delta' from 'datetime' (C:\\Users\\HP\\anaconda3\\Lib\\datetime.py)"
     ]
    }
   ],
   "source": [
    "from datetime import datetime,delta\n",
    "\n",
    "# Assuming 'birthday' is a string in the format 'mm/dd/yyyy'\n",
    "birthday = \"10/16/1990\"  # Replace this with your actual birthday string\n",
    "\n",
    "# Convert the string to a datetime object\n",
    "birthdate = datetime.strptime(birthday, \"%m/%d/%Y\")\n",
    "\n",
    "# Print the resulting datetime object\n",
    "print(birthdate)\n"
   ]
  },
  {
   "cell_type": "code",
   "execution_count": 135,
   "id": "c56f3734",
   "metadata": {},
   "outputs": [],
   "source": [
    "birthday='09/19/2024'"
   ]
  },
  {
   "cell_type": "code",
   "execution_count": 136,
   "id": "20b6f2ed",
   "metadata": {},
   "outputs": [],
   "source": [
    "birthdate =datetime.strptime(birthday, \"%m/%d/%Y\")"
   ]
  },
  {
   "cell_type": "code",
   "execution_count": 125,
   "id": "8a193dd8",
   "metadata": {},
   "outputs": [],
   "source": [
    "birthdate=datetime.strptime(birthday,\"%m/%d/%Y\").date()"
   ]
  },
  {
   "cell_type": "code",
   "execution_count": 126,
   "id": "384c5716",
   "metadata": {},
   "outputs": [
    {
     "data": {
      "text/plain": [
       "datetime.date(2024, 9, 19)"
      ]
     },
     "execution_count": 126,
     "metadata": {},
     "output_type": "execute_result"
    }
   ],
   "source": [
    "birthdate"
   ]
  },
  {
   "cell_type": "code",
   "execution_count": 127,
   "id": "14d8d528",
   "metadata": {},
   "outputs": [],
   "source": [
    "from datetime import datetime"
   ]
  },
  {
   "cell_type": "code",
   "execution_count": 128,
   "id": "e16c1a98",
   "metadata": {},
   "outputs": [],
   "source": [
    "current=datetime.now().date()"
   ]
  },
  {
   "cell_type": "code",
   "execution_count": 129,
   "id": "014cdbab",
   "metadata": {},
   "outputs": [
    {
     "data": {
      "text/plain": [
       "datetime.date(2023, 10, 16)"
      ]
     },
     "execution_count": 129,
     "metadata": {},
     "output_type": "execute_result"
    }
   ],
   "source": [
    "current"
   ]
  },
  {
   "cell_type": "code",
   "execution_count": 130,
   "id": "d07028bd",
   "metadata": {},
   "outputs": [],
   "source": [
    "diff=birthdate-current"
   ]
  },
  {
   "cell_type": "code",
   "execution_count": 131,
   "id": "cab0fb5d",
   "metadata": {},
   "outputs": [
    {
     "data": {
      "text/plain": [
       "339"
      ]
     },
     "execution_count": 131,
     "metadata": {},
     "output_type": "execute_result"
    }
   ],
   "source": [
    "diff.days"
   ]
  },
  {
   "cell_type": "code",
   "execution_count": 143,
   "id": "555a57d7",
   "metadata": {},
   "outputs": [],
   "source": [
    "from datetime import datetime,timedelta"
   ]
  },
  {
   "cell_type": "code",
   "execution_count": 147,
   "id": "6d0ff56a",
   "metadata": {},
   "outputs": [],
   "source": [
    "current=datetime.now().date()"
   ]
  },
  {
   "cell_type": "code",
   "execution_count": 151,
   "id": "c544c167",
   "metadata": {},
   "outputs": [
    {
     "data": {
      "text/plain": [
       "datetime.date(2023, 10, 31)"
      ]
     },
     "execution_count": 151,
     "metadata": {},
     "output_type": "execute_result"
    }
   ],
   "source": [
    "current+timedelta(days=15)"
   ]
  },
  {
   "cell_type": "code",
   "execution_count": 153,
   "id": "937ea9d4",
   "metadata": {},
   "outputs": [
    {
     "data": {
      "text/plain": [
       "datetime.date(2023, 10, 16)"
      ]
     },
     "execution_count": 153,
     "metadata": {},
     "output_type": "execute_result"
    }
   ],
   "source": [
    "current+timedelta(hours=20)"
   ]
  },
  {
   "cell_type": "code",
   "execution_count": null,
   "id": "661f434e",
   "metadata": {},
   "outputs": [],
   "source": [
    "# print(f'today')"
   ]
  },
  {
   "cell_type": "code",
   "execution_count": 154,
   "id": "7998430d",
   "metadata": {},
   "outputs": [
    {
     "name": "stdout",
     "output_type": "stream",
     "text": [
      "Writing test.txt\n"
     ]
    }
   ],
   "source": [
    "%%writefile test.txt\n",
    "Hello UMAMA "
   ]
  },
  {
   "cell_type": "code",
   "execution_count": 161,
   "id": "dcbf5232",
   "metadata": {},
   "outputs": [
    {
     "name": "stdout",
     "output_type": "stream",
     "text": [
      "not available\n"
     ]
    }
   ],
   "source": [
    "try:\n",
    "    myf=open(\"tet.txt\",\"r\")\n",
    "except:\n",
    "    print(\"not available\")"
   ]
  },
  {
   "cell_type": "code",
   "execution_count": 165,
   "id": "cc7c2b6d",
   "metadata": {},
   "outputs": [],
   "source": [
    "try:\n",
    "    open(\"test.txt\",\"r\")\n",
    "except:\n",
    "    print(\"not available\")"
   ]
  },
  {
   "cell_type": "code",
   "execution_count": 166,
   "id": "e0cdc78a",
   "metadata": {},
   "outputs": [
    {
     "data": {
      "text/plain": [
       "<_io.TextIOWrapper name='test.txt' mode='r' encoding='cp1252'>"
      ]
     },
     "execution_count": 166,
     "metadata": {},
     "output_type": "execute_result"
    }
   ],
   "source": [
    "myf"
   ]
  },
  {
   "cell_type": "code",
   "execution_count": 167,
   "id": "ae44674b",
   "metadata": {},
   "outputs": [
    {
     "data": {
      "text/plain": [
       "'C:\\\\Users\\\\HP\\\\Untitled Folder'"
      ]
     },
     "execution_count": 167,
     "metadata": {},
     "output_type": "execute_result"
    }
   ],
   "source": [
    "pwd"
   ]
  },
  {
   "cell_type": "code",
   "execution_count": 168,
   "id": "25fbf52f",
   "metadata": {},
   "outputs": [
    {
     "data": {
      "text/plain": [
       "'Hello UMAMA \\n'"
      ]
     },
     "execution_count": 168,
     "metadata": {},
     "output_type": "execute_result"
    }
   ],
   "source": [
    "myf.read()"
   ]
  },
  {
   "cell_type": "code",
   "execution_count": 238,
   "id": "a66cbe13",
   "metadata": {},
   "outputs": [
    {
     "name": "stdout",
     "output_type": "stream",
     "text": [
      "Overwriting test.txt\n"
     ]
    }
   ],
   "source": [
    "%%writefile test.txt\n",
    "Hello UMAMA \n",
    "how are you"
   ]
  },
  {
   "cell_type": "code",
   "execution_count": 239,
   "id": "c839a3c6",
   "metadata": {},
   "outputs": [],
   "source": [
    "myf=open(\"test.txt\",\"r\")"
   ]
  },
  {
   "cell_type": "code",
   "execution_count": 240,
   "id": "37eb5571",
   "metadata": {},
   "outputs": [
    {
     "name": "stdout",
     "output_type": "stream",
     "text": [
      "Hello UMAMA \n",
      "how are you\n",
      "\n"
     ]
    }
   ],
   "source": [
    "print(myf.read())"
   ]
  },
  {
   "cell_type": "code",
   "execution_count": 241,
   "id": "5aef7b3f",
   "metadata": {},
   "outputs": [
    {
     "data": {
      "text/plain": [
       "0"
      ]
     },
     "execution_count": 241,
     "metadata": {},
     "output_type": "execute_result"
    }
   ],
   "source": [
    "myf.seek(0)"
   ]
  },
  {
   "cell_type": "code",
   "execution_count": 242,
   "id": "d545579a",
   "metadata": {},
   "outputs": [
    {
     "name": "stdout",
     "output_type": "stream",
     "text": [
      "Hello UMAMA \n",
      "how are you\n",
      "\n"
     ]
    }
   ],
   "source": [
    "print(myf.read())"
   ]
  },
  {
   "cell_type": "code",
   "execution_count": 243,
   "id": "f0d95ed7",
   "metadata": {},
   "outputs": [
    {
     "data": {
      "text/plain": [
       "0"
      ]
     },
     "execution_count": 243,
     "metadata": {},
     "output_type": "execute_result"
    }
   ],
   "source": [
    "myf.seek(0)"
   ]
  },
  {
   "cell_type": "code",
   "execution_count": 244,
   "id": "85e77aee",
   "metadata": {},
   "outputs": [
    {
     "data": {
      "text/plain": [
       "['Hello UMAMA \\n', 'how are you\\n']"
      ]
     },
     "execution_count": 244,
     "metadata": {},
     "output_type": "execute_result"
    }
   ],
   "source": [
    "myf.readlines()"
   ]
  },
  {
   "cell_type": "code",
   "execution_count": 245,
   "id": "f6c73217",
   "metadata": {},
   "outputs": [],
   "source": [
    "myf=open(\"test.txt\",\"w+\")"
   ]
  },
  {
   "cell_type": "code",
   "execution_count": 246,
   "id": "2ec5106d",
   "metadata": {},
   "outputs": [
    {
     "data": {
      "text/plain": [
       "9"
      ]
     },
     "execution_count": 246,
     "metadata": {},
     "output_type": "execute_result"
    }
   ],
   "source": [
    "myf.write('i am new\\n')"
   ]
  },
  {
   "cell_type": "code",
   "execution_count": 247,
   "id": "9e970ebd",
   "metadata": {},
   "outputs": [
    {
     "data": {
      "text/plain": [
       "'i am new\\n'"
      ]
     },
     "execution_count": 247,
     "metadata": {},
     "output_type": "execute_result"
    }
   ],
   "source": [
    "myf.seek(0)\n",
    "myf.read()"
   ]
  },
  {
   "cell_type": "code",
   "execution_count": 248,
   "id": "770092d5",
   "metadata": {},
   "outputs": [
    {
     "data": {
      "text/plain": [
       "14"
      ]
     },
     "execution_count": 248,
     "metadata": {},
     "output_type": "execute_result"
    }
   ],
   "source": [
    "myf.write('i am very new\\n')"
   ]
  },
  {
   "cell_type": "code",
   "execution_count": 249,
   "id": "660db3d6",
   "metadata": {},
   "outputs": [
    {
     "data": {
      "text/plain": [
       "''"
      ]
     },
     "execution_count": 249,
     "metadata": {},
     "output_type": "execute_result"
    }
   ],
   "source": [
    "myf.read()"
   ]
  },
  {
   "cell_type": "code",
   "execution_count": 250,
   "id": "434d2262",
   "metadata": {},
   "outputs": [
    {
     "data": {
      "text/plain": [
       "'i am new\\ni am very new\\n'"
      ]
     },
     "execution_count": 250,
     "metadata": {},
     "output_type": "execute_result"
    }
   ],
   "source": [
    "myf.seek(0)\n",
    "myf.read()"
   ]
  },
  {
   "cell_type": "code",
   "execution_count": 251,
   "id": "ae5a81c4",
   "metadata": {},
   "outputs": [],
   "source": [
    "myf.close()"
   ]
  },
  {
   "cell_type": "code",
   "execution_count": 252,
   "id": "524ff40d",
   "metadata": {},
   "outputs": [],
   "source": [
    "myf=open(\"test.txt\",\"a+\")"
   ]
  },
  {
   "cell_type": "code",
   "execution_count": 253,
   "id": "93a06397",
   "metadata": {},
   "outputs": [
    {
     "data": {
      "text/plain": [
       "19"
      ]
     },
     "execution_count": 253,
     "metadata": {},
     "output_type": "execute_result"
    }
   ],
   "source": [
    "myf.write('i am very very new\\n')"
   ]
  },
  {
   "cell_type": "code",
   "execution_count": 254,
   "id": "507386a2",
   "metadata": {},
   "outputs": [
    {
     "data": {
      "text/plain": [
       "''"
      ]
     },
     "execution_count": 254,
     "metadata": {},
     "output_type": "execute_result"
    }
   ],
   "source": [
    "myf.read()"
   ]
  },
  {
   "cell_type": "code",
   "execution_count": 255,
   "id": "6e767444",
   "metadata": {},
   "outputs": [
    {
     "data": {
      "text/plain": [
       "'i am new\\ni am very new\\ni am very very new\\n'"
      ]
     },
     "execution_count": 255,
     "metadata": {},
     "output_type": "execute_result"
    }
   ],
   "source": [
    "myf.seek(0)\n",
    "myf.read()"
   ]
  },
  {
   "cell_type": "code",
   "execution_count": 256,
   "id": "0611cb50",
   "metadata": {},
   "outputs": [
    {
     "name": "stdout",
     "output_type": "stream",
     "text": [
      "Appending to test.txt\n"
     ]
    }
   ],
   "source": [
    "%%writefile -a test.txt\n",
    "Hello UMAMA "
   ]
  },
  {
   "cell_type": "code",
   "execution_count": 257,
   "id": "1286eddc",
   "metadata": {},
   "outputs": [
    {
     "name": "stdout",
     "output_type": "stream",
     "text": [
      "i am new\n",
      "i am very new\n",
      "i am very very new\n",
      "Hello UMAMA \n",
      "\n"
     ]
    }
   ],
   "source": [
    "myf.seek(0)\n",
    "print(myf.read())"
   ]
  },
  {
   "cell_type": "code",
   "execution_count": 258,
   "id": "2baf22d5",
   "metadata": {},
   "outputs": [
    {
     "name": "stdout",
     "output_type": "stream",
     "text": [
      "i am new\n",
      "i am very new\n",
      "i am very very new\n",
      "Hello UMAMA \n",
      "\n"
     ]
    }
   ],
   "source": [
    "with open('test.txt','r') as txt:\n",
    "    content=txt.read()\n",
    "print(content)"
   ]
  },
  {
   "cell_type": "code",
   "execution_count": 259,
   "id": "8451c66b",
   "metadata": {},
   "outputs": [
    {
     "name": "stdout",
     "output_type": "stream",
     "text": [
      "i am new\n",
      "i am very new\n",
      "i am very very new\n",
      "Hello UMAMA \n"
     ]
    }
   ],
   "source": [
    "with open('test.txt','r') as txt:\n",
    "    for line in txt:  \n",
    "        print(line,end=\"\")"
   ]
  },
  {
   "cell_type": "code",
   "execution_count": 260,
   "id": "5f8f48c3",
   "metadata": {},
   "outputs": [
    {
     "name": "stdout",
     "output_type": "stream",
     "text": [
      "Hello\n"
     ]
    }
   ],
   "source": [
    "with open('test1.txt','w+') as txt:\n",
    "    txt.write('Hello')\n",
    "    txt.seek(0)\n",
    "    content=txt.read()\n",
    "print(content)"
   ]
  },
  {
   "cell_type": "code",
   "execution_count": 261,
   "id": "c9b23366",
   "metadata": {},
   "outputs": [
    {
     "name": "stdout",
     "output_type": "stream",
     "text": [
      "i am new\n",
      "i am very new\n",
      "i am very very new\n",
      "Hello UMAMA \n"
     ]
    }
   ],
   "source": [
    "with open('test.txt','r') as txt:\n",
    "    for line in txt:  \n",
    "        print(line,end=\"\")"
   ]
  },
  {
   "cell_type": "code",
   "execution_count": 262,
   "id": "784fe6a8",
   "metadata": {},
   "outputs": [
    {
     "name": "stdout",
     "output_type": "stream",
     "text": [
      "Appending to test.txt\n"
     ]
    }
   ],
   "source": [
    "%%writefile -a test.txt\n",
    "i am appended "
   ]
  },
  {
   "cell_type": "code",
   "execution_count": 263,
   "id": "fe53001b",
   "metadata": {},
   "outputs": [
    {
     "name": "stdout",
     "output_type": "stream",
     "text": [
      "i am new\n",
      "i am very new\n",
      "i am very very new\n",
      "Hello UMAMA \n",
      "i am appended \n"
     ]
    }
   ],
   "source": [
    "with open('test.txt','r') as txt:\n",
    "    for line in txt:  \n",
    "        print(line,end=\"\")"
   ]
  },
  {
   "cell_type": "code",
   "execution_count": null,
   "id": "5ae79a1c",
   "metadata": {},
   "outputs": [],
   "source": []
  }
 ],
 "metadata": {
  "kernelspec": {
   "display_name": "Python 3 (ipykernel)",
   "language": "python",
   "name": "python3"
  },
  "language_info": {
   "codemirror_mode": {
    "name": "ipython",
    "version": 3
   },
   "file_extension": ".py",
   "mimetype": "text/x-python",
   "name": "python",
   "nbconvert_exporter": "python",
   "pygments_lexer": "ipython3",
   "version": "3.11.3"
  }
 },
 "nbformat": 4,
 "nbformat_minor": 5
}
